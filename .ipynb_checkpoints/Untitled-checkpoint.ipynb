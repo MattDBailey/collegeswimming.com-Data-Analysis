{
 "cells": [
  {
   "cell_type": "code",
   "execution_count": 130,
   "metadata": {},
   "outputs": [],
   "source": [
    "import pandas as pd\n",
    "import numpy as np\n",
    "import sqlite3"
   ]
  },
  {
   "cell_type": "code",
   "execution_count": 124,
   "metadata": {},
   "outputs": [
    {
     "name": "stdout",
     "output_type": "stream",
     "text": [
      "   swimmer  team   time    scaled  event        date  taper    snapshot\n",
      "0   325120   184  22.13  0.378791  M150Y  1506729600      2  2391941165\n",
      "1   325120   184  22.27  0.587316  M150Y  1507852800      2  2391941165\n",
      "2   325120   184  21.92  0.066004  M150Y  1507939200      2  2391941165\n",
      "3   325120   184  20.98 -1.334093  M150Y  1510876800      1  2391941165\n",
      "4   325120   184  21.02 -1.274515  M150Y  1510876800      1  2391941165\n",
      "         athlete_name      id\n",
      "0   Kevin Adams-mardi  325120\n",
      "1          Kyle Bloom  237222\n",
      "2    Mitchell Buccalo  230121\n",
      "3      Chadd Cummings  230514\n",
      "4        Chris Devlin  342577\n",
      "5   Vincent Filippini  234442\n",
      "6         Kevin Flynn  403260\n",
      "7       Thomas Gannon  243971\n",
      "8        Mitch Gavars  344995\n",
      "9          Tarik Lott  183734\n",
      "10     Jacob Lubinski  333716\n",
      "11  Charles Mcfarland  270134\n",
      "12     Matthew Mcgoey  408918\n",
      "13         Nico Pagni  330640\n",
      "14       Michael Park  273671\n",
      "15       Matt Rakovec  305409\n",
      "16        John Rogers  314394\n",
      "17    Nate Romanowski  323512\n",
      "18         Jimmy Rush  243792\n",
      "19       Samuel Rutan  216443\n",
      "20      Peter Sigward  518612\n",
      "21     Garrett Sommer  489159\n",
      "             team_name   id\n",
      "0  Bucknell University  184\n"
     ]
    }
   ],
   "source": [
    "connection = sqlite3.connect(\"collegeswimming.db\")\n",
    "SWIMS = pd.read_sql_query(\"SELECT * FROM Swims\", connection)\n",
    "SWIMMERS = pd.read_sql_query(\"SELECT * FROM Swimmers\", connection).rename({\"name\":\"athlete_name\"},axis=\"columns\")\n",
    "TEAMS = pd.read_sql_query(\"SELECT * FROM Teams\", connection).rename({\"name\":\"team_name\"},axis=\"columns\")\n",
    "\n",
    "print(SWIMS.head())\n",
    "print(SWIMMERS)\n",
    "print(TEAMS)\n",
    "connection.close()"
   ]
  },
  {
   "cell_type": "code",
   "execution_count": 125,
   "metadata": {},
   "outputs": [],
   "source": [
    "full_dataset = SWIMS.join(SWIMMERS.set_index('id'), on='swimmer').join(TEAMS.set_index('id'), on='team')"
   ]
  },
  {
   "cell_type": "code",
   "execution_count": 126,
   "metadata": {},
   "outputs": [],
   "source": [
    "grouped_dataset = full_dataset.groupby([\"swimmer\", \"event\"] )"
   ]
  },
  {
   "cell_type": "code",
   "execution_count": 127,
   "metadata": {},
   "outputs": [
    {
     "name": "stdout",
     "output_type": "stream",
     "text": [
      "['M150Y', 'M1100Y']\n"
     ]
    }
   ],
   "source": [
    "eventlist = list(full_dataset[\"event\"].unique())\n",
    "print(a)"
   ]
  },
  {
   "cell_type": "code",
   "execution_count": 151,
   "metadata": {},
   "outputs": [
    {
     "name": "stdout",
     "output_type": "stream",
     "text": [
      "No data on swimmer 230121 for event M150Y\n",
      "No data on swimmer 230121 for event M1100Y\n",
      "No data on swimmer 230514 for event M150Y\n",
      "No data on swimmer 342577 for event M150Y\n",
      "No data on swimmer 403260 for event M150Y\n",
      "No data on swimmer 243971 for event M1100Y\n",
      "No data on swimmer 183734 for event M150Y\n",
      "No data on swimmer 183734 for event M1100Y\n",
      "No data on swimmer 408918 for event M150Y\n",
      "No data on swimmer 408918 for event M1100Y\n",
      "No data on swimmer 330640 for event M150Y\n",
      "No data on swimmer 273671 for event M150Y\n",
      "No data on swimmer 273671 for event M1100Y\n",
      "No data on swimmer 305409 for event M150Y\n",
      "No data on swimmer 305409 for event M1100Y\n",
      "No data on swimmer 216443 for event M150Y\n",
      "No data on swimmer 518612 for event M150Y\n",
      "No data on swimmer 518612 for event M1100Y\n",
      "No data on swimmer 489159 for event M150Y\n",
      "No data on swimmer 489159 for event M1100Y\n"
     ]
    },
    {
     "ename": "IndexError",
     "evalue": "too many indices for array",
     "output_type": "error",
     "traceback": [
      "\u001b[0;31m---------------------------------------------------------------------------\u001b[0m",
      "\u001b[0;31mIndexError\u001b[0m                                Traceback (most recent call last)",
      "\u001b[0;32m<ipython-input-151-a97873ec2a5c>\u001b[0m in \u001b[0;36m<module>\u001b[0;34m()\u001b[0m\n\u001b[1;32m     13\u001b[0m             \u001b[0mteam_data\u001b[0m \u001b[0;34m=\u001b[0m \u001b[0mnp\u001b[0m\u001b[0;34m.\u001b[0m\u001b[0mappend\u001b[0m\u001b[0;34m(\u001b[0m\u001b[0mteam_data\u001b[0m\u001b[0;34m,\u001b[0m\u001b[0;34m[\u001b[0m\u001b[0mathlete_name\u001b[0m\u001b[0;34m,\u001b[0m \u001b[0mevent\u001b[0m\u001b[0;34m,\u001b[0m \u001b[0mteam\u001b[0m\u001b[0;34m,\u001b[0m \u001b[0;32mNone\u001b[0m\u001b[0;34m,\u001b[0m \u001b[0;32mNone\u001b[0m\u001b[0;34m]\u001b[0m\u001b[0;34m)\u001b[0m\u001b[0;34m\u001b[0m\u001b[0m\n\u001b[1;32m     14\u001b[0m \u001b[0;34m\u001b[0m\u001b[0m\n\u001b[0;32m---> 15\u001b[0;31m \u001b[0mteam_data\u001b[0m \u001b[0;34m=\u001b[0m \u001b[0mpd\u001b[0m\u001b[0;34m.\u001b[0m\u001b[0mDataFrame\u001b[0m\u001b[0;34m(\u001b[0m\u001b[0;34m{\u001b[0m\u001b[0;34m\"athlete_name\"\u001b[0m\u001b[0;34m:\u001b[0m\u001b[0mteam_data\u001b[0m\u001b[0;34m[\u001b[0m\u001b[0;34m:\u001b[0m\u001b[0;34m,\u001b[0m\u001b[0;36m0\u001b[0m\u001b[0;34m]\u001b[0m\u001b[0;34m,\u001b[0m\u001b[0;34m\"event\"\u001b[0m\u001b[0;34m:\u001b[0m\u001b[0mteam_data\u001b[0m\u001b[0;34m[\u001b[0m\u001b[0;34m:\u001b[0m\u001b[0;34m,\u001b[0m\u001b[0;36m1\u001b[0m\u001b[0;34m]\u001b[0m\u001b[0;34m,\u001b[0m\u001b[0;34m\"team\"\u001b[0m\u001b[0;34m:\u001b[0m\u001b[0mteam_data\u001b[0m\u001b[0;34m[\u001b[0m\u001b[0;34m:\u001b[0m\u001b[0;34m,\u001b[0m\u001b[0;36m2\u001b[0m\u001b[0;34m]\u001b[0m\u001b[0;34m,\u001b[0m\u001b[0;34m\"minimum_time\"\u001b[0m\u001b[0;34m:\u001b[0m\u001b[0mteam_data\u001b[0m\u001b[0;34m[\u001b[0m\u001b[0;34m:\u001b[0m\u001b[0;34m,\u001b[0m\u001b[0;36m3\u001b[0m\u001b[0;34m]\u001b[0m\u001b[0;34m,\u001b[0m\u001b[0;34m\"average_time\"\u001b[0m\u001b[0;34m:\u001b[0m\u001b[0mteam_data\u001b[0m\u001b[0;34m[\u001b[0m\u001b[0;34m:\u001b[0m\u001b[0;34m,\u001b[0m\u001b[0;36m4\u001b[0m\u001b[0;34m]\u001b[0m\u001b[0;34m}\u001b[0m\u001b[0;34m)\u001b[0m\u001b[0;34m\u001b[0m\u001b[0m\n\u001b[0m",
      "\u001b[0;31mIndexError\u001b[0m: too many indices for array"
     ]
    }
   ],
   "source": [
    "#team_data = np.array([])\n",
    "team_data = []\n",
    "for swimmer in SWIMMERS[\"id\"]:\n",
    "    for event in eventlist:\n",
    "        try: \n",
    "            individual_event_data = grouped_dataset.get_group((swimmer, event))\n",
    "            athlete_name = individual_event_data[\"athlete_name\"]\n",
    "            team = individual_event_data[\"team_name\"]\n",
    "            minimum_time = individual_event_data[\"time\"].min()\n",
    "            average_time = individual_event_data[\"time\"].mean()\n",
    "            #team_data = np.append(team_data,[athlete_name, event, team, minimum_time, average_time])\n",
    "            team_data.append(team_data,[athlete_name, event, team, minimum_time, average_time])\n",
    "        except KeyError as e:\n",
    "            print(\"No data on swimmer {} for event {}\".format(swimmer, event))\n",
    "            #team_data = np.append(team_data,[athlete_name, event, team, None, None])\n",
    "            team_data.append(team_data,[athlete_name, event, team, None, None])\n",
    "\n",
    "team_data = pd.DataFrame({\"athlete_name\":team_data[:,0],\"event\":team_data[:,1],\"team\":team_data[:,2],\"minimum_time\":team_data[:,3],\"average_time\":team_data[:,4]})"
   ]
  },
  {
   "cell_type": "code",
   "execution_count": 150,
   "metadata": {},
   "outputs": [
    {
     "ename": "NameError",
     "evalue": "name 'index' is not defined",
     "output_type": "error",
     "traceback": [
      "\u001b[0;31m---------------------------------------------------------------------------\u001b[0m",
      "\u001b[0;31mNameError\u001b[0m                                 Traceback (most recent call last)",
      "\u001b[0;32m<ipython-input-150-6f0023bdbeb6>\u001b[0m in \u001b[0;36m<module>\u001b[0;34m()\u001b[0m\n\u001b[1;32m      1\u001b[0m \u001b[0ma\u001b[0m\u001b[0;34m=\u001b[0m\u001b[0mSWIMMERS\u001b[0m\u001b[0;34m.\u001b[0m\u001b[0mset_index\u001b[0m\u001b[0;34m(\u001b[0m\u001b[0;34m'id'\u001b[0m\u001b[0;34m)\u001b[0m\u001b[0;34m\u001b[0m\u001b[0m\n\u001b[1;32m      2\u001b[0m \u001b[0ma\u001b[0m\u001b[0;34m.\u001b[0m\u001b[0mindex\u001b[0m\u001b[0;34m\u001b[0m\u001b[0m\n\u001b[0;32m----> 3\u001b[0;31m \u001b[0mprint\u001b[0m\u001b[0;34m(\u001b[0m\u001b[0ma\u001b[0m\u001b[0;34m[\u001b[0m\u001b[0mindex\u001b[0m\u001b[0;34m==\u001b[0m\u001b[0;36m325120\u001b[0m\u001b[0;34m]\u001b[0m\u001b[0;34m)\u001b[0m\u001b[0;34m\u001b[0m\u001b[0m\n\u001b[0m",
      "\u001b[0;31mNameError\u001b[0m: name 'index' is not defined"
     ]
    }
   ],
   "source": [
    "a=SWIMMERS.set_index('id')\n",
    "a.index\n"
   ]
  },
  {
   "cell_type": "code",
   "execution_count": 145,
   "metadata": {},
   "outputs": [
    {
     "data": {
      "text/plain": [
       "RangeIndex(start=0, stop=22, step=1)"
      ]
     },
     "execution_count": 145,
     "metadata": {},
     "output_type": "execute_result"
    }
   ],
   "source": []
  },
  {
   "cell_type": "code",
   "execution_count": null,
   "metadata": {},
   "outputs": [],
   "source": []
  }
 ],
 "metadata": {
  "kernelspec": {
   "display_name": "Python 3",
   "language": "python",
   "name": "python3"
  },
  "language_info": {
   "codemirror_mode": {
    "name": "ipython",
    "version": 3
   },
   "file_extension": ".py",
   "mimetype": "text/x-python",
   "name": "python",
   "nbconvert_exporter": "python",
   "pygments_lexer": "ipython3",
   "version": "3.6.4"
  }
 },
 "nbformat": 4,
 "nbformat_minor": 2
}
